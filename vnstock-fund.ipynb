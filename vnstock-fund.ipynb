{
 "cells": [
  {
   "cell_type": "code",
   "execution_count": 1,
   "id": "a19248bd-1360-47b1-9735-15eb74e6b7a6",
   "metadata": {},
   "outputs": [
    {
     "name": "stdout",
     "output_type": "stream",
     "text": [
      "3.11.11 (main, Jan  5 2025, 05:35:58) [MSC v.1942 64 bit (AMD64)]\n"
     ]
    }
   ],
   "source": [
    "import sys\n",
    "print(sys.version)"
   ]
  },
  {
   "cell_type": "code",
   "execution_count": 2,
   "id": "0cef723f-46c8-4891-a349-c69fdb77750d",
   "metadata": {},
   "outputs": [
    {
     "name": "stdout",
     "output_type": "stream",
     "text": [
      "Total number of funds currently listed on Fmarket:  53\n"
     ]
    }
   ],
   "source": [
    "from vnstock.explorer.fmarket.fund import Fund\n",
    "fund = Fund()"
   ]
  },
  {
   "cell_type": "code",
   "execution_count": 4,
   "id": "5cdd0482-3a3f-476d-af90-f3c21ca31f9b",
   "metadata": {},
   "outputs": [
    {
     "name": "stdout",
     "output_type": "stream",
     "text": [
      "Total number of funds currently listed on Fmarket:  53\n"
     ]
    },
    {
     "data": {
      "text/html": [
       "<div>\n",
       "<style scoped>\n",
       "    .dataframe tbody tr th:only-of-type {\n",
       "        vertical-align: middle;\n",
       "    }\n",
       "\n",
       "    .dataframe tbody tr th {\n",
       "        vertical-align: top;\n",
       "    }\n",
       "\n",
       "    .dataframe thead th {\n",
       "        text-align: right;\n",
       "    }\n",
       "</style>\n",
       "<table border=\"1\" class=\"dataframe\">\n",
       "  <thead>\n",
       "    <tr style=\"text-align: right;\">\n",
       "      <th></th>\n",
       "      <th>short_name</th>\n",
       "      <th>name</th>\n",
       "      <th>fund_type</th>\n",
       "      <th>fund_owner_name</th>\n",
       "      <th>management_fee</th>\n",
       "      <th>inception_date</th>\n",
       "      <th>nav</th>\n",
       "      <th>nav_change_previous</th>\n",
       "      <th>nav_change_last_year</th>\n",
       "      <th>nav_change_inception</th>\n",
       "      <th>...</th>\n",
       "      <th>nav_change_3m</th>\n",
       "      <th>nav_change_6m</th>\n",
       "      <th>nav_change_12m</th>\n",
       "      <th>nav_change_24m</th>\n",
       "      <th>nav_change_36m</th>\n",
       "      <th>nav_change_36m_annualized</th>\n",
       "      <th>nav_update_at</th>\n",
       "      <th>fund_id_fmarket</th>\n",
       "      <th>fund_code</th>\n",
       "      <th>vsd_fee_id</th>\n",
       "    </tr>\n",
       "  </thead>\n",
       "  <tbody>\n",
       "    <tr>\n",
       "      <th>0</th>\n",
       "      <td>SSISCA</td>\n",
       "      <td>QUỸ ĐẦU TƯ LỢI THẾ CẠNH TRANH BỀN VỮNG SSI</td>\n",
       "      <td>Quỹ cổ phiếu</td>\n",
       "      <td>CÔNG TY TNHH QUẢN LÝ QUỸ SSI</td>\n",
       "      <td>1.75</td>\n",
       "      <td>2014-09-25</td>\n",
       "      <td>40636.04</td>\n",
       "      <td>1.68</td>\n",
       "      <td>-0.37</td>\n",
       "      <td>181.95</td>\n",
       "      <td>...</td>\n",
       "      <td>4.36</td>\n",
       "      <td>5.99</td>\n",
       "      <td>28.58</td>\n",
       "      <td>57.27</td>\n",
       "      <td>33.15</td>\n",
       "      <td>10.01</td>\n",
       "      <td>2025-02-03</td>\n",
       "      <td>11</td>\n",
       "      <td>SSISCA</td>\n",
       "      <td>SSISCAN001</td>\n",
       "    </tr>\n",
       "    <tr>\n",
       "      <th>1</th>\n",
       "      <td>VCBF-MGF</td>\n",
       "      <td>QUỸ ĐẦU TƯ CỔ PHIẾU TĂNG TRƯỞNG VCBF</td>\n",
       "      <td>Quỹ cổ phiếu</td>\n",
       "      <td>CÔNG TY TNHH QUẢN LÝ QUỸ ĐẦU TƯ CHỨNG KHOÁN VI...</td>\n",
       "      <td>1.90</td>\n",
       "      <td>2021-10-28</td>\n",
       "      <td>13202.77</td>\n",
       "      <td>-0.02</td>\n",
       "      <td>-1.72</td>\n",
       "      <td>32.03</td>\n",
       "      <td>...</td>\n",
       "      <td>3.91</td>\n",
       "      <td>7.35</td>\n",
       "      <td>19.71</td>\n",
       "      <td>53.80</td>\n",
       "      <td>31.85</td>\n",
       "      <td>9.66</td>\n",
       "      <td>2025-02-03</td>\n",
       "      <td>46</td>\n",
       "      <td>VCBFMGF</td>\n",
       "      <td>VCBFMGFN001</td>\n",
       "    </tr>\n",
       "    <tr>\n",
       "      <th>2</th>\n",
       "      <td>VCBF-FIF</td>\n",
       "      <td>QUỸ ĐẦU TƯ TRÁI PHIẾU VCBF</td>\n",
       "      <td>Quỹ trái phiếu</td>\n",
       "      <td>CÔNG TY TNHH QUẢN LÝ QUỸ ĐẦU TƯ CHỨNG KHOÁN VI...</td>\n",
       "      <td>0.20</td>\n",
       "      <td>2019-08-08</td>\n",
       "      <td>14487.20</td>\n",
       "      <td>0.01</td>\n",
       "      <td>0.15</td>\n",
       "      <td>44.87</td>\n",
       "      <td>...</td>\n",
       "      <td>1.86</td>\n",
       "      <td>2.90</td>\n",
       "      <td>7.15</td>\n",
       "      <td>17.96</td>\n",
       "      <td>26.68</td>\n",
       "      <td>8.20</td>\n",
       "      <td>2025-02-03</td>\n",
       "      <td>33</td>\n",
       "      <td>VCBFFIF</td>\n",
       "      <td>VCBFFIFN001</td>\n",
       "    </tr>\n",
       "    <tr>\n",
       "      <th>3</th>\n",
       "      <td>VNDBF</td>\n",
       "      <td>QUỸ ĐẦU TƯ TRÁI PHIẾU VND</td>\n",
       "      <td>Quỹ trái phiếu</td>\n",
       "      <td>CÔNG TY TNHH MTV QUẢN LÝ QUỸ ĐẦU TƯ CHỨNG KHOÁ...</td>\n",
       "      <td>1.10</td>\n",
       "      <td>2019-07-04</td>\n",
       "      <td>14627.61</td>\n",
       "      <td>0.21</td>\n",
       "      <td>0.58</td>\n",
       "      <td>46.28</td>\n",
       "      <td>...</td>\n",
       "      <td>1.86</td>\n",
       "      <td>3.51</td>\n",
       "      <td>7.29</td>\n",
       "      <td>17.16</td>\n",
       "      <td>24.94</td>\n",
       "      <td>7.70</td>\n",
       "      <td>2025-02-03</td>\n",
       "      <td>37</td>\n",
       "      <td>VNDBF</td>\n",
       "      <td>VNDBFN001</td>\n",
       "    </tr>\n",
       "    <tr>\n",
       "      <th>4</th>\n",
       "      <td>VFF</td>\n",
       "      <td>QUỸ ĐẦU TƯ TRÁI PHIẾU BẢO THỊNH VINACAPITAL</td>\n",
       "      <td>Quỹ trái phiếu</td>\n",
       "      <td>CÔNG TY CỔ PHẦN QUẢN LÝ QUỸ VINACAPITAL</td>\n",
       "      <td>0.95</td>\n",
       "      <td>2013-03-31</td>\n",
       "      <td>23929.08</td>\n",
       "      <td>0.03</td>\n",
       "      <td>0.39</td>\n",
       "      <td>80.13</td>\n",
       "      <td>...</td>\n",
       "      <td>1.90</td>\n",
       "      <td>3.49</td>\n",
       "      <td>6.69</td>\n",
       "      <td>15.43</td>\n",
       "      <td>24.62</td>\n",
       "      <td>7.61</td>\n",
       "      <td>2025-02-03</td>\n",
       "      <td>21</td>\n",
       "      <td>VFF</td>\n",
       "      <td>VFFN003</td>\n",
       "    </tr>\n",
       "  </tbody>\n",
       "</table>\n",
       "<p>5 rows × 21 columns</p>\n",
       "</div>"
      ],
      "text/plain": [
       "  short_name                                         name       fund_type  \\\n",
       "0     SSISCA   QUỸ ĐẦU TƯ LỢI THẾ CẠNH TRANH BỀN VỮNG SSI    Quỹ cổ phiếu   \n",
       "1   VCBF-MGF         QUỸ ĐẦU TƯ CỔ PHIẾU TĂNG TRƯỞNG VCBF    Quỹ cổ phiếu   \n",
       "2   VCBF-FIF                   QUỸ ĐẦU TƯ TRÁI PHIẾU VCBF  Quỹ trái phiếu   \n",
       "3      VNDBF                    QUỸ ĐẦU TƯ TRÁI PHIẾU VND  Quỹ trái phiếu   \n",
       "4        VFF  QUỸ ĐẦU TƯ TRÁI PHIẾU BẢO THỊNH VINACAPITAL  Quỹ trái phiếu   \n",
       "\n",
       "                                     fund_owner_name  management_fee  \\\n",
       "0                       CÔNG TY TNHH QUẢN LÝ QUỸ SSI            1.75   \n",
       "1  CÔNG TY TNHH QUẢN LÝ QUỸ ĐẦU TƯ CHỨNG KHOÁN VI...            1.90   \n",
       "2  CÔNG TY TNHH QUẢN LÝ QUỸ ĐẦU TƯ CHỨNG KHOÁN VI...            0.20   \n",
       "3  CÔNG TY TNHH MTV QUẢN LÝ QUỸ ĐẦU TƯ CHỨNG KHOÁ...            1.10   \n",
       "4            CÔNG TY CỔ PHẦN QUẢN LÝ QUỸ VINACAPITAL            0.95   \n",
       "\n",
       "  inception_date       nav  nav_change_previous  nav_change_last_year  \\\n",
       "0     2014-09-25  40636.04                 1.68                 -0.37   \n",
       "1     2021-10-28  13202.77                -0.02                 -1.72   \n",
       "2     2019-08-08  14487.20                 0.01                  0.15   \n",
       "3     2019-07-04  14627.61                 0.21                  0.58   \n",
       "4     2013-03-31  23929.08                 0.03                  0.39   \n",
       "\n",
       "   nav_change_inception  ...  nav_change_3m  nav_change_6m  nav_change_12m  \\\n",
       "0                181.95  ...           4.36           5.99           28.58   \n",
       "1                 32.03  ...           3.91           7.35           19.71   \n",
       "2                 44.87  ...           1.86           2.90            7.15   \n",
       "3                 46.28  ...           1.86           3.51            7.29   \n",
       "4                 80.13  ...           1.90           3.49            6.69   \n",
       "\n",
       "   nav_change_24m  nav_change_36m  nav_change_36m_annualized  nav_update_at  \\\n",
       "0           57.27           33.15                      10.01     2025-02-03   \n",
       "1           53.80           31.85                       9.66     2025-02-03   \n",
       "2           17.96           26.68                       8.20     2025-02-03   \n",
       "3           17.16           24.94                       7.70     2025-02-03   \n",
       "4           15.43           24.62                       7.61     2025-02-03   \n",
       "\n",
       "  fund_id_fmarket  fund_code   vsd_fee_id  \n",
       "0              11     SSISCA   SSISCAN001  \n",
       "1              46    VCBFMGF  VCBFMGFN001  \n",
       "2              33    VCBFFIF  VCBFFIFN001  \n",
       "3              37      VNDBF    VNDBFN001  \n",
       "4              21        VFF      VFFN003  \n",
       "\n",
       "[5 rows x 21 columns]"
      ]
     },
     "execution_count": 4,
     "metadata": {},
     "output_type": "execute_result"
    }
   ],
   "source": [
    "fund.listing().head()"
   ]
  },
  {
   "cell_type": "code",
   "execution_count": 30,
   "id": "4f55b277-a394-4901-a495-859d954b9b39",
   "metadata": {},
   "outputs": [
    {
     "name": "stdout",
     "output_type": "stream",
     "text": [
      "Retrieving data for SSISCA\n"
     ]
    }
   ],
   "source": [
    "df = fund.details.nav_report('SSISCA')"
   ]
  },
  {
   "cell_type": "code",
   "execution_count": 31,
   "id": "27fdb5b3-41ef-49e1-ab4e-e62e80d2c023",
   "metadata": {},
   "outputs": [
    {
     "name": "stdout",
     "output_type": "stream",
     "text": [
      "<class 'pandas.core.series.Series'>\n"
     ]
    }
   ],
   "source": [
    "# df.info()\n",
    "print(type(df['date']))\n",
    "df.set_index('date', inplace=True)\n",
    "print(df.index)\n",
    "# df.head()\n",
    "# print(type(df.index))"
   ]
  },
  {
   "cell_type": "code",
   "execution_count": 19,
   "id": "7377668e-b37d-473f-91ec-a4775a197018",
   "metadata": {},
   "outputs": [
    {
     "name": "stdout",
     "output_type": "stream",
     "text": [
      "1.1.0\n"
     ]
    }
   ],
   "source": [
    "import bt\n",
    "print(bt.__version__)"
   ]
  },
  {
   "cell_type": "code",
   "execution_count": 20,
   "id": "fbfc2fe7-c9bd-4a1d-b75e-cbc16f91f4ea",
   "metadata": {},
   "outputs": [],
   "source": [
    "# create our new strategy\n",
    "s2 = bt.Strategy('s2', [bt.algos.RunWeekly(),\n",
    "                        bt.algos.SelectAll(),\n",
    "                        bt.algos.WeighInvVol(),\n",
    "                        bt.algos.Rebalance()])"
   ]
  },
  {
   "cell_type": "code",
   "execution_count": 21,
   "id": "df50c903-8377-49f3-bf91-d46ccb95817f",
   "metadata": {},
   "outputs": [
    {
     "ename": "TypeError",
     "evalue": "unsupported operand type(s) for -: 'str' and 'DateOffset'",
     "output_type": "error",
     "traceback": [
      "\u001b[1;31m---------------------------------------------------------------------------\u001b[0m",
      "\u001b[1;31mTypeError\u001b[0m                                 Traceback (most recent call last)",
      "Cell \u001b[1;32mIn[21], line 2\u001b[0m\n\u001b[0;32m      1\u001b[0m \u001b[38;5;66;03m# now let's test it with the same data set.\u001b[39;00m\n\u001b[1;32m----> 2\u001b[0m test2 \u001b[38;5;241m=\u001b[39m \u001b[43mbt\u001b[49m\u001b[38;5;241;43m.\u001b[39;49m\u001b[43mBacktest\u001b[49m\u001b[43m(\u001b[49m\u001b[43ms2\u001b[49m\u001b[43m,\u001b[49m\u001b[43m \u001b[49m\u001b[43mdf\u001b[49m\u001b[43m)\u001b[49m\n",
      "File \u001b[1;32mF:\\Projects\\github\\vnstock\\.venv\\Lib\\site-packages\\bt\\backtest.py:161\u001b[0m, in \u001b[0;36mBacktest.__init__\u001b[1;34m(self, strategy, data, name, initial_capital, commissions, integer_positions, progress_bar, additional_data)\u001b[0m\n\u001b[0;32m    158\u001b[0m \u001b[38;5;28mself\u001b[39m\u001b[38;5;241m.\u001b[39mstrategy \u001b[38;5;241m=\u001b[39m deepcopy(strategy)\n\u001b[0;32m    159\u001b[0m \u001b[38;5;28mself\u001b[39m\u001b[38;5;241m.\u001b[39mstrategy\u001b[38;5;241m.\u001b[39muse_integer_positions(integer_positions)\n\u001b[1;32m--> 161\u001b[0m \u001b[38;5;28;43mself\u001b[39;49m\u001b[38;5;241;43m.\u001b[39;49m\u001b[43m_process_data\u001b[49m\u001b[43m(\u001b[49m\u001b[43mdata\u001b[49m\u001b[43m,\u001b[49m\u001b[43m \u001b[49m\u001b[43madditional_data\u001b[49m\u001b[43m)\u001b[49m\n\u001b[0;32m    163\u001b[0m \u001b[38;5;28mself\u001b[39m\u001b[38;5;241m.\u001b[39minitial_capital \u001b[38;5;241m=\u001b[39m initial_capital\n\u001b[0;32m    164\u001b[0m \u001b[38;5;28mself\u001b[39m\u001b[38;5;241m.\u001b[39mname \u001b[38;5;241m=\u001b[39m name \u001b[38;5;28;01mif\u001b[39;00m name \u001b[38;5;129;01mis\u001b[39;00m \u001b[38;5;129;01mnot\u001b[39;00m \u001b[38;5;28;01mNone\u001b[39;00m \u001b[38;5;28;01melse\u001b[39;00m strategy\u001b[38;5;241m.\u001b[39mname\n",
      "File \u001b[1;32mF:\\Projects\\github\\vnstock\\.venv\\Lib\\site-packages\\bt\\backtest.py:189\u001b[0m, in \u001b[0;36mBacktest._process_data\u001b[1;34m(self, data, additional_data)\u001b[0m\n\u001b[0;32m    176\u001b[0m \u001b[38;5;28;01mdef\u001b[39;00m\u001b[38;5;250m \u001b[39m\u001b[38;5;21m_process_data\u001b[39m(\u001b[38;5;28mself\u001b[39m, data, additional_data):\n\u001b[0;32m    177\u001b[0m     \u001b[38;5;66;03m# add virtual row at t0-1day with NaNs\u001b[39;00m\n\u001b[0;32m    178\u001b[0m     \u001b[38;5;66;03m# this is so that any trading action at t0 can be evaluated relative to\u001b[39;00m\n\u001b[1;32m   (...)\u001b[0m\n\u001b[0;32m    182\u001b[0m     \u001b[38;5;66;03m# start at 100, but may start at 90, for example. Here, we add a\u001b[39;00m\n\u001b[0;32m    183\u001b[0m     \u001b[38;5;66;03m# starting point at t0-1day, and this is the reference starting point\u001b[39;00m\n\u001b[0;32m    184\u001b[0m     data_new \u001b[38;5;241m=\u001b[39m pd\u001b[38;5;241m.\u001b[39mconcat(\n\u001b[0;32m    185\u001b[0m         [\n\u001b[0;32m    186\u001b[0m             pd\u001b[38;5;241m.\u001b[39mDataFrame(\n\u001b[0;32m    187\u001b[0m                 np\u001b[38;5;241m.\u001b[39mnan,\n\u001b[0;32m    188\u001b[0m                 columns\u001b[38;5;241m=\u001b[39mdata\u001b[38;5;241m.\u001b[39mcolumns,\n\u001b[1;32m--> 189\u001b[0m                 index\u001b[38;5;241m=\u001b[39m[\u001b[43mdata\u001b[49m\u001b[38;5;241;43m.\u001b[39;49m\u001b[43mindex\u001b[49m\u001b[43m[\u001b[49m\u001b[38;5;241;43m0\u001b[39;49m\u001b[43m]\u001b[49m\u001b[43m \u001b[49m\u001b[38;5;241;43m-\u001b[39;49m\u001b[43m \u001b[49m\u001b[43mpd\u001b[49m\u001b[38;5;241;43m.\u001b[39;49m\u001b[43mDateOffset\u001b[49m\u001b[43m(\u001b[49m\u001b[43mdays\u001b[49m\u001b[38;5;241;43m=\u001b[39;49m\u001b[38;5;241;43m1\u001b[39;49m\u001b[43m)\u001b[49m],\n\u001b[0;32m    190\u001b[0m             ),\n\u001b[0;32m    191\u001b[0m             data,\n\u001b[0;32m    192\u001b[0m         ]\n\u001b[0;32m    193\u001b[0m     )\n\u001b[0;32m    195\u001b[0m     \u001b[38;5;28mself\u001b[39m\u001b[38;5;241m.\u001b[39mdata \u001b[38;5;241m=\u001b[39m data_new\n\u001b[0;32m    196\u001b[0m     \u001b[38;5;28mself\u001b[39m\u001b[38;5;241m.\u001b[39mdates \u001b[38;5;241m=\u001b[39m data_new\u001b[38;5;241m.\u001b[39mindex\n",
      "\u001b[1;31mTypeError\u001b[0m: unsupported operand type(s) for -: 'str' and 'DateOffset'"
     ]
    }
   ],
   "source": [
    "# now let's test it with the same data set.\n",
    "test2 = bt.Backtest(s2, df)"
   ]
  },
  {
   "cell_type": "code",
   "execution_count": null,
   "id": "a9d90378-6c8b-4fff-9f6f-efd110bf7368",
   "metadata": {},
   "outputs": [],
   "source": []
  }
 ],
 "metadata": {
  "kernelspec": {
   "display_name": "Python 3 (ipykernel)",
   "language": "python",
   "name": "python3"
  },
  "language_info": {
   "codemirror_mode": {
    "name": "ipython",
    "version": 3
   },
   "file_extension": ".py",
   "mimetype": "text/x-python",
   "name": "python",
   "nbconvert_exporter": "python",
   "pygments_lexer": "ipython3",
   "version": "3.11.11"
  }
 },
 "nbformat": 4,
 "nbformat_minor": 5
}
